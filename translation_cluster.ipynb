{
 "cells": [
  {
   "cell_type": "code",
   "execution_count": 1,
   "metadata": {},
   "outputs": [
    {
     "name": "stdout",
     "output_type": "stream",
     "text": [
      "[Errno 2] No such file or directory: 'Users/bkearney'\n",
      "/Users/bkearney/Summer_20\n"
     ]
    },
    {
     "name": "stderr",
     "output_type": "stream",
     "text": [
      "/Users/bkearney/anaconda3/lib/python3.7/site-packages/ipykernel_launcher.py:20: FutureWarning: read_table is deprecated, use read_csv instead, passing sep='\\t'.\n",
      "/Users/bkearney/anaconda3/lib/python3.7/site-packages/ipykernel_launcher.py:21: FutureWarning: read_table is deprecated, use read_csv instead, passing sep='\\t'.\n"
     ]
    }
   ],
   "source": [
    "\"\"\"\n",
    "\n",
    "@author: bkearney\n",
    "email: bkearne5@uncc.edu\n",
    "\n",
    "Purpose: improve from TranslationfromCSV code with new datasets and more ubiquitous code\n",
    "\n",
    "\"\"\"\n",
    "\n",
    "import numpy as np\n",
    "import pandas as pd\n",
    "import re\n",
    "import os\n",
    "import statistics \n",
    "# import allel\n",
    "\n",
    "# Change directory to path with all reference/input files\n",
    "%cd Users/bkearney\n",
    "    \n",
    "gene = pd.read_table('gene2ensembl')\n",
    "human = pd.read_table('Homo_sapiens.gene_info')\n",
    "mart = pd.read_csv('mart_export.txt',delimiter=',')\n",
    "\n",
    "# Create Aliases column (delimited Synonyms)\n",
    "# aliases = human['Synonyms'].tolist()\n",
    "# aliases_sep = []\n",
    "# for i in range(len(aliases)):\n",
    "#     my_list = aliases[i].split(\"|\")\n",
    "#     my_list.append(human['Symbol'].iloc[i])\n",
    "#     aliases_sep.append(my_list)\n",
    "# human['Aliases'] = aliases_sep\n",
    "\n",
    "# Create geneId column from splicing/filtering dbXrefs\n",
    "dbXrefs = human['dbXrefs'].tolist()\n",
    "geneIds = []\n",
    "for i in range(len(dbXrefs)):\n",
    "    if 'Ensembl' in dbXrefs[i]:\n",
    "        gene_id = dbXrefs[i].split(\"Ensembl:\")[1]\n",
    "    else:\n",
    "        gene_id = \"\"\n",
    "    geneIds.append(gene_id)\n",
    "human['geneId'] = geneIds\n"
   ]
  },
  {
   "cell_type": "code",
   "execution_count": null,
   "metadata": {},
   "outputs": [],
   "source": []
  },
  {
   "cell_type": "code",
   "execution_count": null,
   "metadata": {},
   "outputs": [],
   "source": []
  },
  {
   "cell_type": "code",
   "execution_count": 14,
   "metadata": {},
   "outputs": [],
   "source": [
    "#old\n",
    "\n",
    "def translateList(list_features, testing_df):\n",
    "    \n",
    "    test_col = list_features[0]\n",
    "    reference_df = list_features[1]\n",
    "    reference_col = list_features[2]\n",
    "    output_col = list_features[3]\n",
    "\n",
    "    start_param = testing_df[test_col].tolist()\n",
    "    in_list = reference_df[reference_col].tolist()\n",
    "\n",
    "    out_listoflist = []\n",
    "\n",
    "    for i in range(len(start_param)):\n",
    "        param = start_param[i]\n",
    "\n",
    "        match_list=[]\n",
    "        for j in range(len(in_list)):\n",
    "            if str(param) in str(in_list[j]):\n",
    "                index_match = reference_df.iloc[j]\n",
    "                match_list.append(index_match)\n",
    "\n",
    "        out_list = []\n",
    "        for k in range(len(match_list)):\n",
    "            out_list.append(match_list[k][output_col])\n",
    "\n",
    "        out_listoflist.append(out_list)\n",
    "    testing_df['output '+reference_col]=out_listoflist\n",
    "\n",
    "    return testing_df\n",
    "#     'geneId (GRCH37.66)','human','geneId','Full_name_from_nomenclature_authority'\n",
    "\n",
    "def decimal_removal(database, col_index):  # make bp locs into whole numbers for translation\n",
    "    temp_list = database.iloc[:,col_index].tolist()\n",
    "    end_list = []\n",
    "    \n",
    "    for value in temp_list:\n",
    "        end_list.append(str(value).split('.',1)[0])\n",
    "        \n",
    "    return end_list\n",
    "    print(end_list)"
   ]
  },
  {
   "cell_type": "code",
   "execution_count": 7,
   "metadata": {},
   "outputs": [],
   "source": [
    "def f_score(TP,FP,FN):\n",
    "    precision = TP/(TP+FP)\n",
    "    recall = TP/(TP+FN)\n",
    "    f_dia = 2 * precision * recall / (precision+recall)\n",
    "    return f_dia"
   ]
  },
  {
   "cell_type": "code",
   "execution_count": 8,
   "metadata": {},
   "outputs": [],
   "source": [
    "#old\n",
    "\n",
    "def scoring(dataF, colname):\n",
    "\n",
    "    nonmatches_ind = [ind for ind, x in enumerate(dataF[colname]) if len(x)==0 or x != x or x=='-']\n",
    "    matches_ind = [ind for ind, x in enumerate(dataF[colname]) if len(x)!=0 or x == x or x!='-']\n",
    "    nonmatches = dataF.iloc[nonmatches_ind]\n",
    "    matches = dataF.iloc[matches_ind]\n",
    "\n",
    " \n",
    "\n",
    "    truePos = len(dataF)-len(nonmatches)\n",
    "    falsePos = 0 # How to calculate FP?\n",
    "    falseNeg = 0\n",
    "    fScore = f_score(truePos,falsePos,falseNeg)\n",
    "#     return fScore\n",
    "    print(len(nonmatches))\n",
    "    print(len(dataF))\n",
    "    return round(100*len(nonmatches)/len(dataF),4)\n"
   ]
  },
  {
   "cell_type": "code",
   "execution_count": 73,
   "metadata": {},
   "outputs": [],
   "source": [
    "#current function\n",
    "def combined_translate(input_file, trans_list):\n",
    "    df = pd.read_excel(input_file)\n",
    "    \n",
    "    test_col = trans_list[0]\n",
    "    reference_df = trans_list[1]\n",
    "    reference_col = trans_list[2]\n",
    "    output_col = df.columns[0]\n",
    "        \n",
    "    start_param = df[test_col].tolist()\n",
    "    print(len(start_param))\n",
    "    in_list = reference_df[reference_col].tolist()\n",
    "    print(len(in_list))\n",
    "    out_listoflist = []\n",
    "\n",
    "    for i in range(len(start_param)):\n",
    "        param = start_param[i]\n",
    "\n",
    "        match_list=[]\n",
    "        for j in range(len(in_list)):\n",
    "            if str(param) in str(in_list[j]):\n",
    "                index_match = reference_df.iloc[j]\n",
    "                match_list.append(index_match)\n",
    "\n",
    "        out_list = []\n",
    "        for k in range(len(match_list)):\n",
    "            out_list.append(match_list[k][output_col])\n",
    "\n",
    "        out_listoflist.append(out_list)\n",
    "    out_colname = 'output ' + reference_col\n",
    "    df[out_colname] = out_listoflist\n",
    "\n",
    "\n",
    "    nonmatches_ind = [ind for ind, x in enumerate(df[out_colname]) if len(x)==0 or x != x or x=='-']\n",
    "    matches_ind = [ind for ind, x in enumerate(df[out_colname]) if len(x)!=0 or x == x or x!='-']\n",
    "    nonmatches = df.iloc[nonmatches_ind]\n",
    "    matches = df.iloc[matches_ind]\n",
    "    print(round(100*len(nonmatches)/len(df),4),\" percent mismatch, \",test_col)\n",
    "    print(df[out_colname])"
   ]
  },
  {
   "cell_type": "code",
   "execution_count": null,
   "metadata": {},
   "outputs": [],
   "source": []
  },
  {
   "cell_type": "code",
   "execution_count": null,
   "metadata": {},
   "outputs": [],
   "source": []
  },
  {
   "cell_type": "code",
   "execution_count": null,
   "metadata": {},
   "outputs": [],
   "source": [
    "from bloom_filter import BloomFilter\n",
    "\n",
    "\n",
    "bloom = BloomFilter(max_elements=10000000)\n",
    "\n",
    "def matching_check(name):\n",
    "    if name in bloom:\n",
    "        return True\n",
    "    else:\n",
    "        return False\n",
    "    \n",
    "human_modified = human.drop(columns=['GeneID','LocusTag','Modification_date','Feature_type'])\n",
    "mart_modified = mart.drop(columns=['Gene start (bp)','Gene end (bp)','Transcript start (bp)','Transcript end (bp)'])\n",
    "    \n",
    "\n",
    "\n",
    "def add_to_bloom(df):\n",
    "    for row in df.columns:\n",
    "        for ele in df[row]:\n",
    "            if (matching_check(str(ele)) is False):\n",
    "                bloom.add(str(ele))\n",
    "            bloom.add(str(ele))\n",
    "        \n",
    "add_to_bloom(human_modified)\n",
    "add_to_bloom(gene)\n",
    "add_to_bloom(mart)\n",
    "\n"
   ]
  },
  {
   "cell_type": "code",
   "execution_count": null,
   "metadata": {},
   "outputs": [],
   "source": [
    "def bloom_translate(file):\n",
    "    df = pd.read_excel(file)\n",
    "    cols = df.columns\n",
    "    final_match = []\n",
    "    \n",
    "    for col_name in cols:\n",
    "        match = 0\n",
    "        miss = 0\n",
    "        for i in range(len(df[col_name])):\n",
    "            name = str(df[col_name][i])\n",
    "            if matching_check(name):\n",
    "                match=match+1\n",
    "            else:\n",
    "                miss = miss+1\n",
    "        final = match/(match+miss)\n",
    "        final_match.append(final)\n",
    "#     print(final_match)\n",
    "#     print(cols)\n",
    "    res = {cols[i]: final_match[i] for i in range(len(cols))} \n",
    "    res = {key:val for key, val in res.items() if val > 0}\n",
    "\n",
    "    return res"
   ]
  },
  {
   "cell_type": "code",
   "execution_count": 113,
   "metadata": {},
   "outputs": [
    {
     "name": "stdout",
     "output_type": "stream",
     "text": [
      "drug {'Gene': 0.8928571428571429, 'Chromosomal location': 0.6428571428571429}\n",
      "pmc507897 {'group_no': 0.012753623188405797, 'annotation': 0.007536231884057971, 'num_unique_peps': 0.9553623188405798, 'tot_num_peps': 0.9043478260869565}\n"
     ]
    }
   ],
   "source": [
    "\n",
    "drug = bloom_translate('drug_supplement.xlsx')\n",
    "pmc507897 = bloom_translate(\"/Users/bkearney/Documents/R_projects/pmc_xls/PMC507879/gb-2004-5-8-r54-s1.xls\")\n",
    "print('drug',drug)\n",
    "print('pmc507897',pmc507897)"
   ]
  },
  {
   "cell_type": "code",
   "execution_count": null,
   "metadata": {},
   "outputs": [],
   "source": []
  },
  {
   "cell_type": "code",
   "execution_count": null,
   "metadata": {},
   "outputs": [],
   "source": []
  },
  {
   "cell_type": "code",
   "execution_count": null,
   "metadata": {},
   "outputs": [],
   "source": []
  },
  {
   "cell_type": "code",
   "execution_count": null,
   "metadata": {},
   "outputs": [],
   "source": []
  },
  {
   "cell_type": "code",
   "execution_count": null,
   "metadata": {},
   "outputs": [],
   "source": []
  }
 ],
 "metadata": {
  "kernelspec": {
   "display_name": "Python 3",
   "language": "python",
   "name": "python3"
  },
  "language_info": {
   "codemirror_mode": {
    "name": "ipython",
    "version": 3
   },
   "file_extension": ".py",
   "mimetype": "text/x-python",
   "name": "python",
   "nbconvert_exporter": "python",
   "pygments_lexer": "ipython3",
   "version": "3.7.3"
  }
 },
 "nbformat": 4,
 "nbformat_minor": 4
}
